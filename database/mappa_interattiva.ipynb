{
 "cells": [
  {
   "cell_type": "code",
   "execution_count": 2,
   "metadata": {},
   "outputs": [
    {
     "ename": "TypeError",
     "evalue": "unsupported operand type(s) for /: 'str' and 'int'",
     "output_type": "error",
     "traceback": [
      "\u001b[1;31m---------------------------------------------------------------------------\u001b[0m",
      "\u001b[1;31mTypeError\u001b[0m                                 Traceback (most recent call last)",
      "Cell \u001b[1;32mIn[2], line 36\u001b[0m\n\u001b[0;32m     34\u001b[0m i \u001b[39m=\u001b[39m \u001b[39m1\u001b[39m\n\u001b[0;32m     35\u001b[0m \u001b[39mfor\u001b[39;00m specie \u001b[39min\u001b[39;00m tot_alberi:\n\u001b[1;32m---> 36\u001b[0m     specie\u001b[39m.\u001b[39;49mexplore(\n\u001b[0;32m     37\u001b[0m         m \u001b[39m=\u001b[39;49m m, \n\u001b[0;32m     38\u001b[0m         color \u001b[39m=\u001b[39;49m colors[i\u001b[39m-\u001b[39;49m\u001b[39m1\u001b[39;49m],\n\u001b[0;32m     39\u001b[0m         name \u001b[39m=\u001b[39;49m nomi_specie [i\u001b[39m-\u001b[39;49m\u001b[39m1\u001b[39;49m],\n\u001b[0;32m     40\u001b[0m         style_kwds \u001b[39m=\u001b[39;49m {\u001b[39m'\u001b[39;49m\u001b[39mstyle_function\u001b[39;49m\u001b[39m'\u001b[39;49m: \u001b[39mlambda\u001b[39;49;00m x: {\u001b[39m'\u001b[39;49m\u001b[39mradius\u001b[39;49m\u001b[39m'\u001b[39;49m: x[\u001b[39m'\u001b[39;49m\u001b[39mproperties\u001b[39;49m\u001b[39m'\u001b[39;49m][\u001b[39m'\u001b[39;49m\u001b[39mDiametro (cm)\u001b[39;49m\u001b[39m'\u001b[39;49m]\u001b[39m/\u001b[39;49m\u001b[39m10\u001b[39;49m}},\n\u001b[0;32m     41\u001b[0m     ) \n\u001b[0;32m     42\u001b[0m     i \u001b[39m=\u001b[39m i \u001b[39m+\u001b[39m \u001b[39m1\u001b[39m\n\u001b[0;32m     44\u001b[0m folium\u001b[39m.\u001b[39mLayerControl()\u001b[39m.\u001b[39madd_to(m)\n",
      "File \u001b[1;32mc:\\Users\\ronca\\AppData\\Local\\Programs\\Python\\Python311\\Lib\\site-packages\\geopandas\\geodataframe.py:1981\u001b[0m, in \u001b[0;36mGeoDataFrame.explore\u001b[1;34m(self, *args, **kwargs)\u001b[0m\n\u001b[0;32m   1978\u001b[0m \u001b[39m@doc\u001b[39m(_explore)\n\u001b[0;32m   1979\u001b[0m \u001b[39mdef\u001b[39;00m \u001b[39mexplore\u001b[39m(\u001b[39mself\u001b[39m, \u001b[39m*\u001b[39margs, \u001b[39m*\u001b[39m\u001b[39m*\u001b[39mkwargs):\n\u001b[0;32m   1980\u001b[0m \u001b[39m    \u001b[39m\u001b[39m\"\"\"Interactive map based on folium/leaflet.js\"\"\"\u001b[39;00m\n\u001b[1;32m-> 1981\u001b[0m     \u001b[39mreturn\u001b[39;00m _explore(\u001b[39mself\u001b[39;49m, \u001b[39m*\u001b[39;49margs, \u001b[39m*\u001b[39;49m\u001b[39m*\u001b[39;49mkwargs)\n",
      "File \u001b[1;32mc:\\Users\\ronca\\AppData\\Local\\Programs\\Python\\Python311\\Lib\\site-packages\\geopandas\\explore.py:621\u001b[0m, in \u001b[0;36m_explore\u001b[1;34m(df, column, cmap, color, m, tiles, attr, tooltip, popup, highlight, categorical, legend, scheme, k, vmin, vmax, width, height, categories, classification_kwds, control_scale, marker_type, marker_kwds, style_kwds, highlight_kwds, missing_kwds, tooltip_kwds, popup_kwds, legend_kwds, map_kwds, **kwargs)\u001b[0m\n\u001b[0;32m    618\u001b[0m     popup \u001b[39m=\u001b[39m \u001b[39mNone\u001b[39;00m\n\u001b[0;32m    620\u001b[0m \u001b[39m# add dataframe to map\u001b[39;00m\n\u001b[1;32m--> 621\u001b[0m folium\u001b[39m.\u001b[39;49mGeoJson(\n\u001b[0;32m    622\u001b[0m     gdf\u001b[39m.\u001b[39;49m__geo_interface__,\n\u001b[0;32m    623\u001b[0m     tooltip\u001b[39m=\u001b[39;49mtooltip,\n\u001b[0;32m    624\u001b[0m     popup\u001b[39m=\u001b[39;49mpopup,\n\u001b[0;32m    625\u001b[0m     marker\u001b[39m=\u001b[39;49mmarker,\n\u001b[0;32m    626\u001b[0m     style_function\u001b[39m=\u001b[39;49mstyle_function,\n\u001b[0;32m    627\u001b[0m     highlight_function\u001b[39m=\u001b[39;49mhighlight_function,\n\u001b[0;32m    628\u001b[0m     \u001b[39m*\u001b[39;49m\u001b[39m*\u001b[39;49mkwargs,\n\u001b[0;32m    629\u001b[0m )\u001b[39m.\u001b[39madd_to(m)\n\u001b[0;32m    631\u001b[0m \u001b[39mif\u001b[39;00m legend:\n\u001b[0;32m    632\u001b[0m     \u001b[39m# NOTE: overlaps will be resolved in branca #88\u001b[39;00m\n\u001b[0;32m    633\u001b[0m     caption \u001b[39m=\u001b[39m column \u001b[39mif\u001b[39;00m \u001b[39mnot\u001b[39;00m column \u001b[39m==\u001b[39m \u001b[39m\"\u001b[39m\u001b[39m__plottable_column\u001b[39m\u001b[39m\"\u001b[39m \u001b[39melse\u001b[39;00m \u001b[39m\"\u001b[39m\u001b[39m\"\u001b[39m\n",
      "File \u001b[1;32mc:\\Users\\ronca\\AppData\\Local\\Programs\\Python\\Python311\\Lib\\site-packages\\folium\\features.py:648\u001b[0m, in \u001b[0;36mGeoJson.__init__\u001b[1;34m(self, data, style_function, highlight_function, name, overlay, control, show, smooth_factor, tooltip, embed, popup, zoom_on_click, marker)\u001b[0m\n\u001b[0;32m    646\u001b[0m \u001b[39mself\u001b[39m\u001b[39m.\u001b[39mconvert_to_feature_collection()\n\u001b[0;32m    647\u001b[0m \u001b[39mif\u001b[39;00m \u001b[39mself\u001b[39m\u001b[39m.\u001b[39mstyle:\n\u001b[1;32m--> 648\u001b[0m     \u001b[39mself\u001b[39;49m\u001b[39m.\u001b[39;49m_validate_function(style_function, \u001b[39m\"\u001b[39;49m\u001b[39mstyle_function\u001b[39;49m\u001b[39m\"\u001b[39;49m)\n\u001b[0;32m    649\u001b[0m     \u001b[39mself\u001b[39m\u001b[39m.\u001b[39mstyle_function \u001b[39m=\u001b[39m style_function\n\u001b[0;32m    650\u001b[0m     \u001b[39mself\u001b[39m\u001b[39m.\u001b[39mstyle_map \u001b[39m=\u001b[39m {}\n",
      "File \u001b[1;32mc:\\Users\\ronca\\AppData\\Local\\Programs\\Python\\Python311\\Lib\\site-packages\\folium\\features.py:724\u001b[0m, in \u001b[0;36mGeoJson._validate_function\u001b[1;34m(self, func, name)\u001b[0m\n\u001b[0;32m    721\u001b[0m     \u001b[39mreturn\u001b[39;00m\n\u001b[0;32m    723\u001b[0m test_feature \u001b[39m=\u001b[39m \u001b[39mself\u001b[39m\u001b[39m.\u001b[39mdata[\u001b[39m\"\u001b[39m\u001b[39mfeatures\u001b[39m\u001b[39m\"\u001b[39m][\u001b[39m0\u001b[39m]\n\u001b[1;32m--> 724\u001b[0m \u001b[39mif\u001b[39;00m \u001b[39mnot\u001b[39;00m callable(func) \u001b[39mor\u001b[39;00m \u001b[39mnot\u001b[39;00m \u001b[39misinstance\u001b[39m(func(test_feature), \u001b[39mdict\u001b[39m):\n\u001b[0;32m    725\u001b[0m     \u001b[39mraise\u001b[39;00m \u001b[39mValueError\u001b[39;00m(\n\u001b[0;32m    726\u001b[0m         \u001b[39m\"\u001b[39m\u001b[39m{}\u001b[39;00m\u001b[39m should be a function that accepts items from \u001b[39m\u001b[39m\"\u001b[39m\n\u001b[0;32m    727\u001b[0m         \u001b[39m\"\u001b[39m\u001b[39mdata[\u001b[39m\u001b[39m'\u001b[39m\u001b[39mfeatures\u001b[39m\u001b[39m'\u001b[39m\u001b[39m] and returns a dictionary.\u001b[39m\u001b[39m\"\u001b[39m\u001b[39m.\u001b[39mformat(name)\n\u001b[0;32m    728\u001b[0m     )\n",
      "File \u001b[1;32mc:\\Users\\ronca\\AppData\\Local\\Programs\\Python\\Python311\\Lib\\site-packages\\geopandas\\explore.py:543\u001b[0m, in \u001b[0;36m_explore.<locals>._style_column\u001b[1;34m(x)\u001b[0m\n\u001b[0;32m    535\u001b[0m \u001b[39mdef\u001b[39;00m \u001b[39m_style_column\u001b[39m(x):\n\u001b[0;32m    536\u001b[0m     base_style \u001b[39m=\u001b[39m {\n\u001b[0;32m    537\u001b[0m         \u001b[39m\"\u001b[39m\u001b[39mfillColor\u001b[39m\u001b[39m\"\u001b[39m: x[\u001b[39m\"\u001b[39m\u001b[39mproperties\u001b[39m\u001b[39m\"\u001b[39m][\u001b[39m\"\u001b[39m\u001b[39m__folium_color\u001b[39m\u001b[39m\"\u001b[39m],\n\u001b[0;32m    538\u001b[0m         \u001b[39m\"\u001b[39m\u001b[39mcolor\u001b[39m\u001b[39m\"\u001b[39m: x[\u001b[39m\"\u001b[39m\u001b[39mproperties\u001b[39m\u001b[39m\"\u001b[39m][\u001b[39m\"\u001b[39m\u001b[39m__folium_color\u001b[39m\u001b[39m\"\u001b[39m],\n\u001b[0;32m    539\u001b[0m         \u001b[39m*\u001b[39m\u001b[39m*\u001b[39mstyle_kwds,\n\u001b[0;32m    540\u001b[0m     }\n\u001b[0;32m    541\u001b[0m     \u001b[39mreturn\u001b[39;00m {\n\u001b[0;32m    542\u001b[0m         \u001b[39m*\u001b[39m\u001b[39m*\u001b[39mbase_style,\n\u001b[1;32m--> 543\u001b[0m         \u001b[39m*\u001b[39m\u001b[39m*\u001b[39mstyle_kwds_function(x),\n\u001b[0;32m    544\u001b[0m     }\n",
      "Cell \u001b[1;32mIn[2], line 40\u001b[0m, in \u001b[0;36m<lambda>\u001b[1;34m(x)\u001b[0m\n\u001b[0;32m     34\u001b[0m i \u001b[39m=\u001b[39m \u001b[39m1\u001b[39m\n\u001b[0;32m     35\u001b[0m \u001b[39mfor\u001b[39;00m specie \u001b[39min\u001b[39;00m tot_alberi:\n\u001b[0;32m     36\u001b[0m     specie\u001b[39m.\u001b[39mexplore(\n\u001b[0;32m     37\u001b[0m         m \u001b[39m=\u001b[39m m, \n\u001b[0;32m     38\u001b[0m         color \u001b[39m=\u001b[39m colors[i\u001b[39m-\u001b[39m\u001b[39m1\u001b[39m],\n\u001b[0;32m     39\u001b[0m         name \u001b[39m=\u001b[39m nomi_specie [i\u001b[39m-\u001b[39m\u001b[39m1\u001b[39m],\n\u001b[1;32m---> 40\u001b[0m         style_kwds \u001b[39m=\u001b[39m {\u001b[39m'\u001b[39m\u001b[39mstyle_function\u001b[39m\u001b[39m'\u001b[39m: \u001b[39mlambda\u001b[39;00m x: {\u001b[39m'\u001b[39m\u001b[39mradius\u001b[39m\u001b[39m'\u001b[39m: x[\u001b[39m'\u001b[39;49m\u001b[39mproperties\u001b[39;49m\u001b[39m'\u001b[39;49m][\u001b[39m'\u001b[39;49m\u001b[39mDiametro (cm)\u001b[39;49m\u001b[39m'\u001b[39;49m]\u001b[39m/\u001b[39;49m\u001b[39m10\u001b[39;49m}},\n\u001b[0;32m     41\u001b[0m     ) \n\u001b[0;32m     42\u001b[0m     i \u001b[39m=\u001b[39m i \u001b[39m+\u001b[39m \u001b[39m1\u001b[39m\n\u001b[0;32m     44\u001b[0m folium\u001b[39m.\u001b[39mLayerControl()\u001b[39m.\u001b[39madd_to(m)\n",
      "\u001b[1;31mTypeError\u001b[0m: unsupported operand type(s) for /: 'str' and 'int'"
     ]
    }
   ],
   "source": [
    "import geopandas as gpd\n",
    "import folium \n",
    "import pandas as pd\n",
    "import leaflet\n",
    "import random \n",
    "\n",
    "# creo due array vuoti\n",
    "nomi_specie = []\n",
    "tot_alberi = []\n",
    "\n",
    "# leggo il dataframe\n",
    "df = gpd.read_file('C:/Users/ronca/Desktop/pw_villaburi/database/nuovo_file.geojson')\n",
    "\n",
    "# inserisco in una variabile la colonna di riferimento del dataframe\n",
    "x = df['Nome scientifico'].value_counts()\n",
    "\n",
    "# estraggo dall'array nomi_specie formato da coppia chiavi valori solo la chiave\n",
    "for key, value in x.items():\n",
    "    nomi_specie.append(key)\n",
    "\n",
    "# confronto l'array tot_alberi con il dataframe in base alla colonna 'nome scientifico', cosi\n",
    "# da creare un array dove sono presenti il numero di alberi dentro l'array nomi_specie\n",
    "for i in range(len(nomi_specie)):\n",
    "    tot_alberi.append(df.loc[df['Nome scientifico'] == nomi_specie[i]])\n",
    "\n",
    "# setto 66 colori random per layerare la mappa \n",
    "get_color = lambda n: ['#%06x' % random.randint(0, 0xFFFFFF) for _ in range(n)]\n",
    "colors = get_color(66)\n",
    "\n",
    "#creo un oggetto folium vuoto\n",
    "m = folium.Map()\n",
    "\n",
    "# setto i colori e i marker per le varie specie di alberi\n",
    "i = 1\n",
    "for specie in tot_alberi:\n",
    "    specie.explore(\n",
    "        m = m, \n",
    "        color = colors[i-1],\n",
    "        name = nomi_specie [i-1],\n",
    "        style_kwds = {'style_function': lambda x: {'radius': x['properties']['Altezza']/10}},\n",
    "    ) \n",
    "    i = i + 1\n",
    "\n",
    "folium.LayerControl().add_to(m)\n",
    "\n",
    "#salvo l'oggeto mappa in un file HTML\n",
    "m.save('C:/Users/ronca/Desktop/pw_villaburi/database/file.html')\n",
    "\n",
    "\n",
    "\n",
    "\n",
    "\n",
    "\n",
    "\n",
    "\n",
    "\n",
    "\n",
    "\n",
    "\n",
    "\n",
    "\n"
   ]
  }
 ],
 "metadata": {
  "kernelspec": {
   "display_name": "Python 3",
   "language": "python",
   "name": "python3"
  },
  "language_info": {
   "codemirror_mode": {
    "name": "ipython",
    "version": 3
   },
   "file_extension": ".py",
   "mimetype": "text/x-python",
   "name": "python",
   "nbconvert_exporter": "python",
   "pygments_lexer": "ipython3",
   "version": "3.11.1"
  },
  "orig_nbformat": 4,
  "vscode": {
   "interpreter": {
    "hash": "3c38289b79e641a089b36cc3091304723478022f78b7f6722312ba055b813461"
   }
  }
 },
 "nbformat": 4,
 "nbformat_minor": 2
}
